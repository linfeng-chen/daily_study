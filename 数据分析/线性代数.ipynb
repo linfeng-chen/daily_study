{
 "cells": [
  {
   "cell_type": "markdown",
   "metadata": {
    "collapsed": true,
    "pycharm": {
     "name": "#%% md\n"
    }
   },
   "source": [
    "NumPy提供了一个用于矩阵乘法的\n",
    "dot函数（既是一个数组方法也是numpy命名空间中的一个函数）："
   ]
  },
  {
   "cell_type": "code",
   "execution_count": 3,
   "outputs": [],
   "source": [
    "import numpy as np\n",
    "x = np.array([[1,2,3],[4,5,6]])\n",
    "y = np.array([[6,23],[-1,7],[8,9]])"
   ],
   "metadata": {
    "collapsed": false,
    "pycharm": {
     "name": "#%%\n"
    }
   }
  },
  {
   "cell_type": "code",
   "execution_count": 4,
   "outputs": [
    {
     "data": {
      "text/plain": "array([[1, 2, 3],\n       [4, 5, 6]])"
     },
     "execution_count": 4,
     "metadata": {},
     "output_type": "execute_result"
    }
   ],
   "source": [
    "x"
   ],
   "metadata": {
    "collapsed": false,
    "pycharm": {
     "name": "#%%\n"
    }
   }
  },
  {
   "cell_type": "code",
   "execution_count": 5,
   "outputs": [
    {
     "data": {
      "text/plain": "array([[ 6, 23],\n       [-1,  7],\n       [ 8,  9]])"
     },
     "execution_count": 5,
     "metadata": {},
     "output_type": "execute_result"
    }
   ],
   "source": [
    "y"
   ],
   "metadata": {
    "collapsed": false,
    "pycharm": {
     "name": "#%%\n"
    }
   }
  },
  {
   "cell_type": "code",
   "execution_count": 6,
   "outputs": [
    {
     "data": {
      "text/plain": "array([[ 28,  64],\n       [ 67, 181]])"
     },
     "execution_count": 6,
     "metadata": {},
     "output_type": "execute_result"
    }
   ],
   "source": [
    "x.dot(y)"
   ],
   "metadata": {
    "collapsed": false,
    "pycharm": {
     "name": "#%%\n"
    }
   }
  },
  {
   "cell_type": "code",
   "execution_count": 7,
   "outputs": [
    {
     "data": {
      "text/plain": "array([[ 28,  64],\n       [ 67, 181]])"
     },
     "execution_count": 7,
     "metadata": {},
     "output_type": "execute_result"
    }
   ],
   "source": [
    "np.dot(x,y)"
   ],
   "metadata": {
    "collapsed": false,
    "pycharm": {
     "name": "#%%\n"
    }
   }
  },
  {
   "cell_type": "code",
   "execution_count": 8,
   "outputs": [
    {
     "data": {
      "text/plain": "array([ 6., 15.])"
     },
     "execution_count": 8,
     "metadata": {},
     "output_type": "execute_result"
    }
   ],
   "source": [
    "np.dot(x,np.ones(3))"
   ],
   "metadata": {
    "collapsed": false,
    "pycharm": {
     "name": "#%%\n"
    }
   }
  },
  {
   "cell_type": "code",
   "execution_count": 9,
   "outputs": [
    {
     "data": {
      "text/plain": "array([1., 1., 1.])"
     },
     "execution_count": 9,
     "metadata": {},
     "output_type": "execute_result"
    }
   ],
   "source": [
    "np.ones(3)"
   ],
   "metadata": {
    "collapsed": false,
    "pycharm": {
     "name": "#%%\n"
    }
   }
  },
  {
   "cell_type": "markdown",
   "source": [
    "@符（类似Python 3.5）也可以用作中缀运算符，进行矩阵乘法"
   ],
   "metadata": {
    "collapsed": false,
    "pycharm": {
     "name": "#%% md\n"
    }
   }
  },
  {
   "cell_type": "code",
   "execution_count": 10,
   "outputs": [
    {
     "data": {
      "text/plain": "array([ 6., 15.])"
     },
     "execution_count": 10,
     "metadata": {},
     "output_type": "execute_result"
    }
   ],
   "source": [
    "x@np.ones(3)"
   ],
   "metadata": {
    "collapsed": false,
    "pycharm": {
     "name": "#%%\n"
    }
   }
  },
  {
   "cell_type": "markdown",
   "source": [
    "numpy.linalg中有一组标准的矩阵分解运算以及诸如求逆和行列式之类的东西"
   ],
   "metadata": {
    "collapsed": false,
    "pycharm": {
     "name": "#%% md\n"
    }
   }
  },
  {
   "cell_type": "code",
   "execution_count": 32,
   "outputs": [
    {
     "data": {
      "text/plain": "array([[ 6.34809784, -0.78686547, -1.85889403, -1.84609279,  1.50664202],\n       [-0.78686547,  1.64344971, -2.15646928,  2.02182094,  1.55188902],\n       [-1.85889403, -2.15646928,  6.32276437, -1.73642374, -4.34028527],\n       [-1.84609279,  2.02182094, -1.73642374,  6.63411106, -1.68958291],\n       [ 1.50664202,  1.55188902, -4.34028527, -1.68958291,  5.3077929 ]])"
     },
     "execution_count": 32,
     "metadata": {},
     "output_type": "execute_result"
    }
   ],
   "source": [
    "from numpy.linalg import inv,qr\n",
    "x = np.random.randn(5,5)\n",
    "mat = x.T.dot(x)\n",
    "mat"
   ],
   "metadata": {
    "collapsed": false,
    "pycharm": {
     "name": "#%%\n"
    }
   }
  },
  {
   "cell_type": "code",
   "execution_count": 33,
   "outputs": [
    {
     "data": {
      "text/plain": "array([[   0.77405491,   10.22194335,   -2.59172038,   -5.37046844,\n          -7.03723817],\n       [  10.22194335,  196.58425141,  -55.08861836, -107.01118176,\n        -139.48967998],\n       [  -2.59172038,  -55.08861836,   16.59246277,   30.63954004,\n          40.16363971],\n       [  -5.37046844, -107.01118176,   30.63954004,   58.79274754,\n          76.58181559],\n       [  -7.03723817, -139.48967998,   40.16363971,   76.58181559,\n         100.19005865]])"
     },
     "execution_count": 33,
     "metadata": {},
     "output_type": "execute_result"
    }
   ],
   "source": [
    "inv(mat)\n",
    "# 求逆"
   ],
   "metadata": {
    "collapsed": false,
    "pycharm": {
     "name": "#%%\n"
    }
   }
  },
  {
   "cell_type": "code",
   "execution_count": 34,
   "outputs": [
    {
     "data": {
      "text/plain": "array([[ 1.00000000e+00, -1.86001576e-15,  6.90528635e-15,\n         5.05930084e-15,  6.52147716e-15],\n       [-4.66325811e-15,  1.00000000e+00,  5.40909626e-15,\n         7.69977377e-15,  2.51691487e-15],\n       [ 6.80098470e-15, -3.81417150e-14,  1.00000000e+00,\n        -1.24359457e-14, -7.63440810e-14],\n       [-7.28514403e-15,  1.39216717e-13,  2.08231997e-14,\n         1.00000000e+00,  3.07125698e-14],\n       [-7.72249009e-16,  8.15621971e-14, -2.88943617e-15,\n         2.81943733e-14,  1.00000000e+00]])"
     },
     "execution_count": 34,
     "metadata": {},
     "output_type": "execute_result"
    }
   ],
   "source": [
    "mat.dot(inv(mat))"
   ],
   "metadata": {
    "collapsed": false,
    "pycharm": {
     "name": "#%%\n"
    }
   }
  },
  {
   "cell_type": "code",
   "execution_count": 36,
   "outputs": [
    {
     "data": {
      "text/plain": "array([[-7.07467450e+00,  5.19310505e-01,  3.56067205e+00,\n         3.51606738e+00, -3.89097535e+00],\n       [ 0.00000000e+00, -3.76787473e+00,  7.38126177e+00,\n        -4.64053138e+00, -4.66212808e+00],\n       [ 0.00000000e+00,  0.00000000e+00, -1.66584179e+00,\n        -3.38552912e+00,  3.25752328e+00],\n       [ 0.00000000e+00,  0.00000000e+00,  0.00000000e+00,\n        -3.46670408e+00,  2.65652959e+00],\n       [ 0.00000000e+00,  0.00000000e+00,  0.00000000e+00,\n         0.00000000e+00,  5.19714904e-03]])"
     },
     "execution_count": 36,
     "metadata": {},
     "output_type": "execute_result"
    }
   ],
   "source": [
    "q,r = qr(mat)\n",
    "r"
   ],
   "metadata": {
    "collapsed": false,
    "pycharm": {
     "name": "#%%\n"
    }
   }
  },
  {
   "cell_type": "markdown",
   "source": [
    "常用函数：\n",
    "\n",
    "diag：以一维数组返回方阵的对角线元素（或非对角线元素），或将一维数组转换为方阵（非对角线为0）\n",
    "\n",
    "trace：求对角线元素之和\n",
    "\n",
    "det:求行列式\n",
    "\n",
    "eig:求特征值，特征向量\n",
    "\n",
    "pinv:计算矩阵的Moore-Penrose伪逆\n",
    "\n",
    "qr:计算QR分解\n",
    "\n",
    "svd:计算奇异值分解\n",
    "\n",
    "solve:解线性方程组Ax = b,其中A为方阵\n",
    "\n",
    "lstsq:计算Ax=b的最小二乘解"
   ],
   "metadata": {
    "collapsed": false,
    "pycharm": {
     "name": "#%% md\n"
    }
   }
  },
  {
   "cell_type": "code",
   "execution_count": 37,
   "outputs": [
    {
     "data": {
      "text/plain": "array([[-1.2304149 ,  0.11537916, -1.64875486],\n       [ 0.65581391,  3.20042066,  0.75750131],\n       [ 0.09709503,  0.27929515,  1.21310269]])"
     },
     "execution_count": 37,
     "metadata": {},
     "output_type": "execute_result"
    }
   ],
   "source": [
    "arr =np.random.randn(3,3)\n",
    "arr"
   ],
   "metadata": {
    "collapsed": false,
    "pycharm": {
     "name": "#%%\n"
    }
   }
  },
  {
   "cell_type": "code",
   "execution_count": 38,
   "outputs": [
    {
     "data": {
      "text/plain": "array([-1.2304149 ,  3.20042066,  1.21310269])"
     },
     "execution_count": 38,
     "metadata": {},
     "output_type": "execute_result"
    }
   ],
   "source": [
    "arr.diagonal()"
   ],
   "metadata": {
    "collapsed": false,
    "pycharm": {
     "name": "#%%\n"
    }
   }
  },
  {
   "cell_type": "code",
   "execution_count": 39,
   "outputs": [
    {
     "data": {
      "text/plain": "3.1831084563917402"
     },
     "execution_count": 39,
     "metadata": {},
     "output_type": "execute_result"
    }
   ],
   "source": [
    "arr.trace()"
   ],
   "metadata": {
    "collapsed": false,
    "pycharm": {
     "name": "#%%\n"
    }
   }
  },
  {
   "cell_type": "code",
   "execution_count": 40,
   "outputs": [
    {
     "data": {
      "text/plain": "-4.389655241798746"
     },
     "execution_count": 40,
     "metadata": {},
     "output_type": "execute_result"
    }
   ],
   "source": [
    "from numpy.linalg import det\n",
    "det(arr)"
   ],
   "metadata": {
    "collapsed": false,
    "pycharm": {
     "name": "#%%\n"
    }
   }
  },
  {
   "cell_type": "markdown",
   "source": [
    "伪随机数的生成\n"
   ],
   "metadata": {
    "collapsed": false,
    "pycharm": {
     "name": "#%% md\n"
    }
   }
  }
 ],
 "metadata": {
  "kernelspec": {
   "display_name": "Python 3",
   "language": "python",
   "name": "python3"
  },
  "language_info": {
   "codemirror_mode": {
    "name": "ipython",
    "version": 2
   },
   "file_extension": ".py",
   "mimetype": "text/x-python",
   "name": "python",
   "nbconvert_exporter": "python",
   "pygments_lexer": "ipython2",
   "version": "2.7.6"
  }
 },
 "nbformat": 4,
 "nbformat_minor": 0
}