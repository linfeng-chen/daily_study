{
 "cells": [
  {
   "cell_type": "code",
   "execution_count": 1,
   "metadata": {
    "collapsed": true
   },
   "outputs": [],
   "source": [
    "import numpy as np\n",
    "import pandas as pd"
   ]
  },
  {
   "cell_type": "code",
   "execution_count": 2,
   "outputs": [
    {
     "data": {
      "text/plain": "    one  two\na  1.40  NaN\nb  7.10 -4.5\nc   NaN  NaN\nd  0.75 -1.3",
      "text/html": "<div>\n<style scoped>\n    .dataframe tbody tr th:only-of-type {\n        vertical-align: middle;\n    }\n\n    .dataframe tbody tr th {\n        vertical-align: top;\n    }\n\n    .dataframe thead th {\n        text-align: right;\n    }\n</style>\n<table border=\"1\" class=\"dataframe\">\n  <thead>\n    <tr style=\"text-align: right;\">\n      <th></th>\n      <th>one</th>\n      <th>two</th>\n    </tr>\n  </thead>\n  <tbody>\n    <tr>\n      <th>a</th>\n      <td>1.40</td>\n      <td>NaN</td>\n    </tr>\n    <tr>\n      <th>b</th>\n      <td>7.10</td>\n      <td>-4.5</td>\n    </tr>\n    <tr>\n      <th>c</th>\n      <td>NaN</td>\n      <td>NaN</td>\n    </tr>\n    <tr>\n      <th>d</th>\n      <td>0.75</td>\n      <td>-1.3</td>\n    </tr>\n  </tbody>\n</table>\n</div>"
     },
     "execution_count": 2,
     "metadata": {},
     "output_type": "execute_result"
    }
   ],
   "source": [
    "df = pd.DataFrame([[1.4,np.nan],[7.1,-4.5],[np.nan,np.nan],[0.75,-1.3]],index=['a','b','c','d'],\n",
    "                  columns=['one','two'])\n",
    "df"
   ],
   "metadata": {
    "collapsed": false,
    "pycharm": {
     "name": "#%%\n"
    }
   }
  },
  {
   "cell_type": "code",
   "execution_count": 3,
   "outputs": [
    {
     "data": {
      "text/plain": "one    9.25\ntwo   -5.80\ndtype: float64"
     },
     "execution_count": 3,
     "metadata": {},
     "output_type": "execute_result"
    }
   ],
   "source": [
    "# 调用DataFrame的sum方法将会返回一个含有列的和的Series\n",
    "df.sum()"
   ],
   "metadata": {
    "collapsed": false,
    "pycharm": {
     "name": "#%%\n"
    }
   }
  },
  {
   "cell_type": "code",
   "execution_count": 4,
   "outputs": [
    {
     "data": {
      "text/plain": "a    1.40\nb    2.60\nc    0.00\nd   -0.55\ndtype: float64"
     },
     "execution_count": 4,
     "metadata": {},
     "output_type": "execute_result"
    }
   ],
   "source": [
    "# 传入axis='columns'或axis=1将会按行进行求和运算：\n",
    "df.sum(axis=1)"
   ],
   "metadata": {
    "collapsed": false,
    "pycharm": {
     "name": "#%%\n"
    }
   }
  },
  {
   "cell_type": "code",
   "execution_count": 5,
   "outputs": [
    {
     "data": {
      "text/plain": "a     NaN\nb    2.60\nc     NaN\nd   -0.55\ndtype: float64"
     },
     "execution_count": 5,
     "metadata": {},
     "output_type": "execute_result"
    }
   ],
   "source": [
    "# NA值会自动被规定为0，除非整个切片（这里指的是行或列）都是NA。通过skipna选\n",
    "# 项可以禁用该功能：\n",
    "df.sum(axis=1,skipna=False)"
   ],
   "metadata": {
    "collapsed": false,
    "pycharm": {
     "name": "#%%\n"
    }
   }
  },
  {
   "cell_type": "code",
   "execution_count": 6,
   "outputs": [
    {
     "data": {
      "text/plain": "one    b\ntwo    d\ndtype: object"
     },
     "execution_count": 6,
     "metadata": {},
     "output_type": "execute_result"
    }
   ],
   "source": [
    "df.idxmax()\n",
    "# 方法（如idxmin和idxmax）返回的是间接统计（比如达到最小值或最大值的索引）"
   ],
   "metadata": {
    "collapsed": false,
    "pycharm": {
     "name": "#%%\n"
    }
   }
  },
  {
   "cell_type": "code",
   "execution_count": 7,
   "outputs": [
    {
     "data": {
      "text/plain": "    one  two\na  1.40  NaN\nb  8.50 -4.5\nc   NaN  NaN\nd  9.25 -5.8",
      "text/html": "<div>\n<style scoped>\n    .dataframe tbody tr th:only-of-type {\n        vertical-align: middle;\n    }\n\n    .dataframe tbody tr th {\n        vertical-align: top;\n    }\n\n    .dataframe thead th {\n        text-align: right;\n    }\n</style>\n<table border=\"1\" class=\"dataframe\">\n  <thead>\n    <tr style=\"text-align: right;\">\n      <th></th>\n      <th>one</th>\n      <th>two</th>\n    </tr>\n  </thead>\n  <tbody>\n    <tr>\n      <th>a</th>\n      <td>1.40</td>\n      <td>NaN</td>\n    </tr>\n    <tr>\n      <th>b</th>\n      <td>8.50</td>\n      <td>-4.5</td>\n    </tr>\n    <tr>\n      <th>c</th>\n      <td>NaN</td>\n      <td>NaN</td>\n    </tr>\n    <tr>\n      <th>d</th>\n      <td>9.25</td>\n      <td>-5.8</td>\n    </tr>\n  </tbody>\n</table>\n</div>"
     },
     "execution_count": 7,
     "metadata": {},
     "output_type": "execute_result"
    }
   ],
   "source": [
    "df.cumsum()\n",
    "# 累计型函数"
   ],
   "metadata": {
    "collapsed": false,
    "pycharm": {
     "name": "#%%\n"
    }
   }
  },
  {
   "cell_type": "code",
   "execution_count": 8,
   "outputs": [
    {
     "data": {
      "text/plain": "    one   two\na  1.40   NaN\nb  7.10  2.60\nc   NaN   NaN\nd  0.75 -0.55",
      "text/html": "<div>\n<style scoped>\n    .dataframe tbody tr th:only-of-type {\n        vertical-align: middle;\n    }\n\n    .dataframe tbody tr th {\n        vertical-align: top;\n    }\n\n    .dataframe thead th {\n        text-align: right;\n    }\n</style>\n<table border=\"1\" class=\"dataframe\">\n  <thead>\n    <tr style=\"text-align: right;\">\n      <th></th>\n      <th>one</th>\n      <th>two</th>\n    </tr>\n  </thead>\n  <tbody>\n    <tr>\n      <th>a</th>\n      <td>1.40</td>\n      <td>NaN</td>\n    </tr>\n    <tr>\n      <th>b</th>\n      <td>7.10</td>\n      <td>2.60</td>\n    </tr>\n    <tr>\n      <th>c</th>\n      <td>NaN</td>\n      <td>NaN</td>\n    </tr>\n    <tr>\n      <th>d</th>\n      <td>0.75</td>\n      <td>-0.55</td>\n    </tr>\n  </tbody>\n</table>\n</div>"
     },
     "execution_count": 8,
     "metadata": {},
     "output_type": "execute_result"
    }
   ],
   "source": [
    "df.cumsum(axis=1)"
   ],
   "metadata": {
    "collapsed": false,
    "pycharm": {
     "name": "#%%\n"
    }
   }
  },
  {
   "cell_type": "code",
   "execution_count": 9,
   "outputs": [
    {
     "data": {
      "text/plain": "            one       two\ncount  3.000000  2.000000\nmean   3.083333 -2.900000\nstd    3.493685  2.262742\nmin    0.750000 -4.500000\n25%    1.075000 -3.700000\n50%    1.400000 -2.900000\n75%    4.250000 -2.100000\nmax    7.100000 -1.300000",
      "text/html": "<div>\n<style scoped>\n    .dataframe tbody tr th:only-of-type {\n        vertical-align: middle;\n    }\n\n    .dataframe tbody tr th {\n        vertical-align: top;\n    }\n\n    .dataframe thead th {\n        text-align: right;\n    }\n</style>\n<table border=\"1\" class=\"dataframe\">\n  <thead>\n    <tr style=\"text-align: right;\">\n      <th></th>\n      <th>one</th>\n      <th>two</th>\n    </tr>\n  </thead>\n  <tbody>\n    <tr>\n      <th>count</th>\n      <td>3.000000</td>\n      <td>2.000000</td>\n    </tr>\n    <tr>\n      <th>mean</th>\n      <td>3.083333</td>\n      <td>-2.900000</td>\n    </tr>\n    <tr>\n      <th>std</th>\n      <td>3.493685</td>\n      <td>2.262742</td>\n    </tr>\n    <tr>\n      <th>min</th>\n      <td>0.750000</td>\n      <td>-4.500000</td>\n    </tr>\n    <tr>\n      <th>25%</th>\n      <td>1.075000</td>\n      <td>-3.700000</td>\n    </tr>\n    <tr>\n      <th>50%</th>\n      <td>1.400000</td>\n      <td>-2.900000</td>\n    </tr>\n    <tr>\n      <th>75%</th>\n      <td>4.250000</td>\n      <td>-2.100000</td>\n    </tr>\n    <tr>\n      <th>max</th>\n      <td>7.100000</td>\n      <td>-1.300000</td>\n    </tr>\n  </tbody>\n</table>\n</div>"
     },
     "execution_count": 9,
     "metadata": {},
     "output_type": "execute_result"
    }
   ],
   "source": [
    "df.describe()"
   ],
   "metadata": {
    "collapsed": false,
    "pycharm": {
     "name": "#%%\n"
    }
   }
  },
  {
   "cell_type": "code",
   "execution_count": 10,
   "outputs": [
    {
     "data": {
      "text/plain": "    one  two\na  1.40  NaN\nb  7.10 -4.5\nc   NaN  NaN\nd  0.75 -1.3",
      "text/html": "<div>\n<style scoped>\n    .dataframe tbody tr th:only-of-type {\n        vertical-align: middle;\n    }\n\n    .dataframe tbody tr th {\n        vertical-align: top;\n    }\n\n    .dataframe thead th {\n        text-align: right;\n    }\n</style>\n<table border=\"1\" class=\"dataframe\">\n  <thead>\n    <tr style=\"text-align: right;\">\n      <th></th>\n      <th>one</th>\n      <th>two</th>\n    </tr>\n  </thead>\n  <tbody>\n    <tr>\n      <th>a</th>\n      <td>1.40</td>\n      <td>NaN</td>\n    </tr>\n    <tr>\n      <th>b</th>\n      <td>7.10</td>\n      <td>-4.5</td>\n    </tr>\n    <tr>\n      <th>c</th>\n      <td>NaN</td>\n      <td>NaN</td>\n    </tr>\n    <tr>\n      <th>d</th>\n      <td>0.75</td>\n      <td>-1.3</td>\n    </tr>\n  </tbody>\n</table>\n</div>"
     },
     "execution_count": 10,
     "metadata": {},
     "output_type": "execute_result"
    }
   ],
   "source": [
    "df"
   ],
   "metadata": {
    "collapsed": false,
    "pycharm": {
     "name": "#%%\n"
    }
   }
  },
  {
   "cell_type": "code",
   "execution_count": 11,
   "outputs": [
    {
     "data": {
      "text/plain": "one    3.083333\ntwo   -2.900000\nName: mean, dtype: float64"
     },
     "execution_count": 11,
     "metadata": {},
     "output_type": "execute_result"
    }
   ],
   "source": [
    "df.describe().loc[\"mean\"]"
   ],
   "metadata": {
    "collapsed": false,
    "pycharm": {
     "name": "#%%\n"
    }
   }
  },
  {
   "cell_type": "code",
   "execution_count": 12,
   "outputs": [
    {
     "data": {
      "text/plain": "0     a\n1     a\n2     b\n3     c\n4     a\n5     a\n6     b\n7     c\n8     a\n9     a\n10    b\n11    c\n12    a\n13    a\n14    b\n15    c\ndtype: object"
     },
     "execution_count": 12,
     "metadata": {},
     "output_type": "execute_result"
    }
   ],
   "source": [
    "obj = pd.Series(['a','a','b','c'] * 4)\n",
    "obj"
   ],
   "metadata": {
    "collapsed": false,
    "pycharm": {
     "name": "#%%\n"
    }
   }
  },
  {
   "cell_type": "code",
   "execution_count": 13,
   "outputs": [
    {
     "data": {
      "text/plain": "count     16\nunique     3\ntop        a\nfreq       8\ndtype: object"
     },
     "execution_count": 13,
     "metadata": {},
     "output_type": "execute_result"
    }
   ],
   "source": [
    "# 对于非数值型数据，describe会产生另外一种汇总统计\n",
    "obj.describe()"
   ],
   "metadata": {
    "collapsed": false,
    "pycharm": {
     "name": "#%%\n"
    }
   }
  },
  {
   "cell_type": "markdown",
   "source": [
    "# 描述与汇总统计\n",
    "count：非NA值的数量\n",
    "\n",
    "var:样本值的方差\n",
    "\n",
    "std:标准差\n",
    "\n",
    "cumprod:累计积\n",
    "\n",
    "pct_change 计算百分数变化"
   ],
   "metadata": {
    "collapsed": false,
    "pycharm": {
     "name": "#%% md\n"
    }
   }
  },
  {
   "cell_type": "markdown",
   "source": [
    "相关系数与协方差"
   ],
   "metadata": {
    "collapsed": false,
    "pycharm": {
     "name": "#%% md\n"
    }
   }
  },
  {
   "cell_type": "code",
   "execution_count": 14,
   "outputs": [
    {
     "data": {
      "text/plain": "dict_keys(['AAPL', 'IBM', 'MSFT', 'GOOG'])"
     },
     "execution_count": 14,
     "metadata": {},
     "output_type": "execute_result"
    }
   ],
   "source": [
    "import pandas_datareader.data as web\n",
    "all_data = {ticker:web.get_data_yahoo(ticker) for ticker in\n",
    "            [\"AAPL\",'IBM','MSFT','GOOG']}\n",
    "all_data.keys()"
   ],
   "metadata": {
    "collapsed": false,
    "pycharm": {
     "name": "#%%\n"
    }
   }
  },
  {
   "cell_type": "code",
   "execution_count": 15,
   "outputs": [
    {
     "data": {
      "text/plain": "dict_values([                  High         Low        Open       Close       Volume  \\\nDate                                                                      \n2015-09-08   28.139999   27.580000   27.937500   28.077499  219374400.0   \n2015-09-09   28.504999   27.442499   28.440001   27.537500  340043200.0   \n2015-09-10   28.320000   27.475000   27.567499   28.142500  251571200.0   \n2015-09-11   28.552500   27.940001   27.947500   28.552500  199662000.0   \n2015-09-14   29.222500   28.715000   29.145000   28.827499  233453600.0   \n...                ...         ...         ...         ...          ...   \n2020-08-31  131.000000  126.000000  127.580002  129.039993  225702700.0   \n2020-09-01  134.800003  130.529999  132.759995  134.179993  152470100.0   \n2020-09-02  137.979996  127.000000  137.589996  131.399994  200119000.0   \n2020-09-03  128.839996  120.500000  126.910004  120.879997  254723200.0   \n2020-09-04  123.699997  110.889999  120.070000  120.959999  332607163.0   \n\n             Adj Close  \nDate                    \n2015-09-08   25.946814  \n2015-09-09   25.447792  \n2015-09-10   26.006878  \n2015-09-11   26.385771  \n2015-09-14   26.639898  \n...                ...  \n2020-08-31  129.039993  \n2020-09-01  134.179993  \n2020-09-02  131.399994  \n2020-09-03  120.879997  \n2020-09-04  120.959999  \n\n[1259 rows x 6 columns],                   High         Low        Open       Close     Volume  \\\nDate                                                                    \n2015-09-08  147.339996  145.660004  145.860001  147.229996  3933300.0   \n2015-09-09  149.039993  144.850006  148.740005  145.050003  3407800.0   \n2015-09-10  147.160004  144.509995  145.850006  146.199997  3461700.0   \n2015-09-11  147.500000  145.669998  145.910004  147.369995  3115100.0   \n2015-09-14  147.369995  145.410004  147.369995  145.649994  3226700.0   \n...                ...         ...         ...         ...        ...   \n2020-08-31  125.250000  123.029999  125.250000  123.309998  4827900.0   \n2020-09-01  123.949997  122.150002  122.849998  123.400002  3155300.0   \n2020-09-02  128.699997  123.580002  123.720001  128.179993  6592400.0   \n2020-09-03  129.949997  123.650002  128.190002  124.449997  5711000.0   \n2020-09-04  125.349998  121.239998  124.349998  122.300003  5851861.0   \n\n             Adj Close  \nDate                    \n2015-09-08  117.901871  \n2015-09-09  116.156136  \n2015-09-10  117.077080  \n2015-09-11  118.013985  \n2015-09-14  116.636604  \n...                ...  \n2020-08-31  123.309998  \n2020-09-01  123.400002  \n2020-09-02  128.179993  \n2020-09-03  124.449997  \n2020-09-04  122.300003  \n\n[1259 rows x 6 columns],                   High         Low        Open       Close      Volume  \\\nDate                                                                     \n2015-09-08   44.000000   43.200001   43.299999   43.889999  32469800.0   \n2015-09-09   44.400002   42.910000   44.209999   43.070000  33469500.0   \n2015-09-10   43.790001   42.750000   43.119999   43.290001  31366600.0   \n2015-09-11   43.590000   42.939999   43.139999   43.480000  27132500.0   \n2015-09-14   43.439999   42.860001   43.430000   43.040001  23656000.0   \n...                ...         ...         ...         ...         ...   \n2020-08-31  228.699997  224.309998  227.000000  225.529999  28774200.0   \n2020-09-01  227.449997  224.429993  225.509995  227.270004  25791200.0   \n2020-09-02  232.860001  227.350006  227.970001  231.649994  34080800.0   \n2020-09-03  229.309998  214.960007  229.270004  217.300003  58148900.0   \n2020-09-04  218.359894  205.190002  215.100006  214.250000  56783337.0   \n\n             Adj Close  \nDate                    \n2015-09-08   39.887024  \n2015-09-09   39.141819  \n2015-09-10   39.341743  \n2015-09-11   39.514427  \n2015-09-14   39.114552  \n...                ...  \n2020-08-31  225.529999  \n2020-09-01  227.270004  \n2020-09-02  231.649994  \n2020-09-03  217.300003  \n2020-09-04  214.250000  \n\n[1259 rows x 6 columns],                    High          Low         Open        Close   Volume  \\\nDate                                                                      \n2015-09-08   616.309998   604.119995   612.489990   614.659973  2279500   \n2015-09-09   626.520020   609.599976   621.219971   612.719971  1702100   \n2015-09-10   624.159973   611.429993   613.099976   621.349976  1905300   \n2015-09-11   625.780029   617.419983   619.750000   625.770020  1373500   \n2015-09-14   625.859985   619.429993   625.700012   623.239990  1702300   \n...                 ...          ...          ...          ...      ...   \n2020-08-31  1647.964966  1630.310059  1647.890015  1634.180054  1823400   \n2020-09-01  1665.729980  1632.219971  1636.630005  1660.709961  1826700   \n2020-09-02  1733.180054  1666.329956  1673.775024  1728.280029  2511200   \n2020-09-03  1709.713989  1615.060059  1709.713989  1641.839966  3100800   \n2020-09-04  1645.109985  1547.612549  1624.260010  1591.040039  2608568   \n\n              Adj Close  \nDate                     \n2015-09-08   614.659973  \n2015-09-09   612.719971  \n2015-09-10   621.349976  \n2015-09-11   625.770020  \n2015-09-14   623.239990  \n...                 ...  \n2020-08-31  1634.180054  \n2020-09-01  1660.709961  \n2020-09-02  1728.280029  \n2020-09-03  1641.839966  \n2020-09-04  1591.040039  \n\n[1259 rows x 6 columns]])"
     },
     "execution_count": 15,
     "metadata": {},
     "output_type": "execute_result"
    }
   ],
   "source": [
    "all_data.values()"
   ],
   "metadata": {
    "collapsed": false,
    "pycharm": {
     "name": "#%%\n"
    }
   }
  },
  {
   "cell_type": "code",
   "execution_count": 16,
   "outputs": [
    {
     "data": {
      "text/plain": "                  AAPL         IBM        MSFT         GOOG\nDate                                                       \n2015-09-08   25.946814  117.901871   39.887024   614.659973\n2015-09-09   25.447792  116.156136   39.141819   612.719971\n2015-09-10   26.006878  117.077080   39.341743   621.349976\n2015-09-11   26.385771  118.013985   39.514427   625.770020\n2015-09-14   26.639898  116.636604   39.114552   623.239990\n...                ...         ...         ...          ...\n2020-08-31  129.039993  123.309998  225.529999  1634.180054\n2020-09-01  134.179993  123.400002  227.270004  1660.709961\n2020-09-02  131.399994  128.179993  231.649994  1728.280029\n2020-09-03  120.879997  124.449997  217.300003  1641.839966\n2020-09-04  120.959999  122.300003  214.250000  1591.040039\n\n[1259 rows x 4 columns]",
      "text/html": "<div>\n<style scoped>\n    .dataframe tbody tr th:only-of-type {\n        vertical-align: middle;\n    }\n\n    .dataframe tbody tr th {\n        vertical-align: top;\n    }\n\n    .dataframe thead th {\n        text-align: right;\n    }\n</style>\n<table border=\"1\" class=\"dataframe\">\n  <thead>\n    <tr style=\"text-align: right;\">\n      <th></th>\n      <th>AAPL</th>\n      <th>IBM</th>\n      <th>MSFT</th>\n      <th>GOOG</th>\n    </tr>\n    <tr>\n      <th>Date</th>\n      <th></th>\n      <th></th>\n      <th></th>\n      <th></th>\n    </tr>\n  </thead>\n  <tbody>\n    <tr>\n      <th>2015-09-08</th>\n      <td>25.946814</td>\n      <td>117.901871</td>\n      <td>39.887024</td>\n      <td>614.659973</td>\n    </tr>\n    <tr>\n      <th>2015-09-09</th>\n      <td>25.447792</td>\n      <td>116.156136</td>\n      <td>39.141819</td>\n      <td>612.719971</td>\n    </tr>\n    <tr>\n      <th>2015-09-10</th>\n      <td>26.006878</td>\n      <td>117.077080</td>\n      <td>39.341743</td>\n      <td>621.349976</td>\n    </tr>\n    <tr>\n      <th>2015-09-11</th>\n      <td>26.385771</td>\n      <td>118.013985</td>\n      <td>39.514427</td>\n      <td>625.770020</td>\n    </tr>\n    <tr>\n      <th>2015-09-14</th>\n      <td>26.639898</td>\n      <td>116.636604</td>\n      <td>39.114552</td>\n      <td>623.239990</td>\n    </tr>\n    <tr>\n      <th>...</th>\n      <td>...</td>\n      <td>...</td>\n      <td>...</td>\n      <td>...</td>\n    </tr>\n    <tr>\n      <th>2020-08-31</th>\n      <td>129.039993</td>\n      <td>123.309998</td>\n      <td>225.529999</td>\n      <td>1634.180054</td>\n    </tr>\n    <tr>\n      <th>2020-09-01</th>\n      <td>134.179993</td>\n      <td>123.400002</td>\n      <td>227.270004</td>\n      <td>1660.709961</td>\n    </tr>\n    <tr>\n      <th>2020-09-02</th>\n      <td>131.399994</td>\n      <td>128.179993</td>\n      <td>231.649994</td>\n      <td>1728.280029</td>\n    </tr>\n    <tr>\n      <th>2020-09-03</th>\n      <td>120.879997</td>\n      <td>124.449997</td>\n      <td>217.300003</td>\n      <td>1641.839966</td>\n    </tr>\n    <tr>\n      <th>2020-09-04</th>\n      <td>120.959999</td>\n      <td>122.300003</td>\n      <td>214.250000</td>\n      <td>1591.040039</td>\n    </tr>\n  </tbody>\n</table>\n<p>1259 rows × 4 columns</p>\n</div>"
     },
     "execution_count": 16,
     "metadata": {},
     "output_type": "execute_result"
    }
   ],
   "source": [
    "price = pd.DataFrame({ticker:data['Adj Close'] for ticker,data in all_data.items() })\n",
    "price"
   ],
   "metadata": {
    "collapsed": false,
    "pycharm": {
     "name": "#%%\n"
    }
   }
  },
  {
   "cell_type": "code",
   "execution_count": 17,
   "outputs": [
    {
     "data": {
      "text/plain": "                   AAPL        IBM        MSFT     GOOG\nDate                                                   \n2015-09-08  219374400.0  3933300.0  32469800.0  2279500\n2015-09-09  340043200.0  3407800.0  33469500.0  1702100\n2015-09-10  251571200.0  3461700.0  31366600.0  1905300\n2015-09-11  199662000.0  3115100.0  27132500.0  1373500\n2015-09-14  233453600.0  3226700.0  23656000.0  1702300\n...                 ...        ...         ...      ...\n2020-08-31  225702700.0  4827900.0  28774200.0  1823400\n2020-09-01  152470100.0  3155300.0  25791200.0  1826700\n2020-09-02  200119000.0  6592400.0  34080800.0  2511200\n2020-09-03  254723200.0  5711000.0  58148900.0  3100800\n2020-09-04  332607163.0  5851861.0  56783337.0  2608568\n\n[1259 rows x 4 columns]",
      "text/html": "<div>\n<style scoped>\n    .dataframe tbody tr th:only-of-type {\n        vertical-align: middle;\n    }\n\n    .dataframe tbody tr th {\n        vertical-align: top;\n    }\n\n    .dataframe thead th {\n        text-align: right;\n    }\n</style>\n<table border=\"1\" class=\"dataframe\">\n  <thead>\n    <tr style=\"text-align: right;\">\n      <th></th>\n      <th>AAPL</th>\n      <th>IBM</th>\n      <th>MSFT</th>\n      <th>GOOG</th>\n    </tr>\n    <tr>\n      <th>Date</th>\n      <th></th>\n      <th></th>\n      <th></th>\n      <th></th>\n    </tr>\n  </thead>\n  <tbody>\n    <tr>\n      <th>2015-09-08</th>\n      <td>219374400.0</td>\n      <td>3933300.0</td>\n      <td>32469800.0</td>\n      <td>2279500</td>\n    </tr>\n    <tr>\n      <th>2015-09-09</th>\n      <td>340043200.0</td>\n      <td>3407800.0</td>\n      <td>33469500.0</td>\n      <td>1702100</td>\n    </tr>\n    <tr>\n      <th>2015-09-10</th>\n      <td>251571200.0</td>\n      <td>3461700.0</td>\n      <td>31366600.0</td>\n      <td>1905300</td>\n    </tr>\n    <tr>\n      <th>2015-09-11</th>\n      <td>199662000.0</td>\n      <td>3115100.0</td>\n      <td>27132500.0</td>\n      <td>1373500</td>\n    </tr>\n    <tr>\n      <th>2015-09-14</th>\n      <td>233453600.0</td>\n      <td>3226700.0</td>\n      <td>23656000.0</td>\n      <td>1702300</td>\n    </tr>\n    <tr>\n      <th>...</th>\n      <td>...</td>\n      <td>...</td>\n      <td>...</td>\n      <td>...</td>\n    </tr>\n    <tr>\n      <th>2020-08-31</th>\n      <td>225702700.0</td>\n      <td>4827900.0</td>\n      <td>28774200.0</td>\n      <td>1823400</td>\n    </tr>\n    <tr>\n      <th>2020-09-01</th>\n      <td>152470100.0</td>\n      <td>3155300.0</td>\n      <td>25791200.0</td>\n      <td>1826700</td>\n    </tr>\n    <tr>\n      <th>2020-09-02</th>\n      <td>200119000.0</td>\n      <td>6592400.0</td>\n      <td>34080800.0</td>\n      <td>2511200</td>\n    </tr>\n    <tr>\n      <th>2020-09-03</th>\n      <td>254723200.0</td>\n      <td>5711000.0</td>\n      <td>58148900.0</td>\n      <td>3100800</td>\n    </tr>\n    <tr>\n      <th>2020-09-04</th>\n      <td>332607163.0</td>\n      <td>5851861.0</td>\n      <td>56783337.0</td>\n      <td>2608568</td>\n    </tr>\n  </tbody>\n</table>\n<p>1259 rows × 4 columns</p>\n</div>"
     },
     "execution_count": 17,
     "metadata": {},
     "output_type": "execute_result"
    }
   ],
   "source": [
    "volume = pd.DataFrame({ticker:data[\"Volume\"] for ticker,data in all_data.items()})\n",
    "volume"
   ],
   "metadata": {
    "collapsed": false,
    "pycharm": {
     "name": "#%%\n"
    }
   }
  },
  {
   "cell_type": "code",
   "execution_count": 18,
   "outputs": [
    {
     "data": {
      "text/plain": "                AAPL       IBM      MSFT      GOOG\nDate                                              \n2020-08-31  0.033912 -0.014072 -0.014766 -0.006221\n2020-09-01  0.039833  0.000730  0.007715  0.016234\n2020-09-02 -0.020718  0.038736  0.019272  0.040687\n2020-09-03 -0.080061 -0.029100 -0.061947 -0.050015\n2020-09-04  0.000662 -0.017276 -0.014036 -0.030941",
      "text/html": "<div>\n<style scoped>\n    .dataframe tbody tr th:only-of-type {\n        vertical-align: middle;\n    }\n\n    .dataframe tbody tr th {\n        vertical-align: top;\n    }\n\n    .dataframe thead th {\n        text-align: right;\n    }\n</style>\n<table border=\"1\" class=\"dataframe\">\n  <thead>\n    <tr style=\"text-align: right;\">\n      <th></th>\n      <th>AAPL</th>\n      <th>IBM</th>\n      <th>MSFT</th>\n      <th>GOOG</th>\n    </tr>\n    <tr>\n      <th>Date</th>\n      <th></th>\n      <th></th>\n      <th></th>\n      <th></th>\n    </tr>\n  </thead>\n  <tbody>\n    <tr>\n      <th>2020-08-31</th>\n      <td>0.033912</td>\n      <td>-0.014072</td>\n      <td>-0.014766</td>\n      <td>-0.006221</td>\n    </tr>\n    <tr>\n      <th>2020-09-01</th>\n      <td>0.039833</td>\n      <td>0.000730</td>\n      <td>0.007715</td>\n      <td>0.016234</td>\n    </tr>\n    <tr>\n      <th>2020-09-02</th>\n      <td>-0.020718</td>\n      <td>0.038736</td>\n      <td>0.019272</td>\n      <td>0.040687</td>\n    </tr>\n    <tr>\n      <th>2020-09-03</th>\n      <td>-0.080061</td>\n      <td>-0.029100</td>\n      <td>-0.061947</td>\n      <td>-0.050015</td>\n    </tr>\n    <tr>\n      <th>2020-09-04</th>\n      <td>0.000662</td>\n      <td>-0.017276</td>\n      <td>-0.014036</td>\n      <td>-0.030941</td>\n    </tr>\n  </tbody>\n</table>\n</div>"
     },
     "execution_count": 18,
     "metadata": {},
     "output_type": "execute_result"
    }
   ],
   "source": [
    "returns = price.pct_change()\n",
    "returns.tail() #获取后五行"
   ],
   "metadata": {
    "collapsed": false,
    "pycharm": {
     "name": "#%%\n"
    }
   }
  },
  {
   "cell_type": "markdown",
   "source": [
    "Series的corr方法用于计算两个Series中重叠的、非NA的、按索引对齐的值的相关\n",
    "系数。与此类似，cov用于计算协方差"
   ],
   "metadata": {
    "collapsed": false,
    "pycharm": {
     "name": "#%% md\n"
    }
   }
  },
  {
   "cell_type": "code",
   "execution_count": 19,
   "outputs": [
    {
     "data": {
      "text/plain": "0.5019011763793945"
     },
     "execution_count": 19,
     "metadata": {},
     "output_type": "execute_result"
    }
   ],
   "source": [
    "returns['AAPL'].corr(returns['IBM'])"
   ],
   "metadata": {
    "collapsed": false,
    "pycharm": {
     "name": "#%%\n"
    }
   }
  },
  {
   "cell_type": "code",
   "execution_count": 20,
   "outputs": [
    {
     "data": {
      "text/plain": "0.0001484833892255038"
     },
     "execution_count": 20,
     "metadata": {},
     "output_type": "execute_result"
    }
   ],
   "source": [
    "returns['AAPL'].cov(returns['IBM'])"
   ],
   "metadata": {
    "collapsed": false,
    "pycharm": {
     "name": "#%%\n"
    }
   }
  },
  {
   "cell_type": "code",
   "execution_count": 21,
   "outputs": [
    {
     "data": {
      "text/plain": "          AAPL       IBM      MSFT      GOOG\nAAPL  1.000000  0.501901  0.698478  0.651976\nIBM   0.501901  1.000000  0.580395  0.537152\nMSFT  0.698478  0.580395  1.000000  0.781827\nGOOG  0.651976  0.537152  0.781827  1.000000",
      "text/html": "<div>\n<style scoped>\n    .dataframe tbody tr th:only-of-type {\n        vertical-align: middle;\n    }\n\n    .dataframe tbody tr th {\n        vertical-align: top;\n    }\n\n    .dataframe thead th {\n        text-align: right;\n    }\n</style>\n<table border=\"1\" class=\"dataframe\">\n  <thead>\n    <tr style=\"text-align: right;\">\n      <th></th>\n      <th>AAPL</th>\n      <th>IBM</th>\n      <th>MSFT</th>\n      <th>GOOG</th>\n    </tr>\n  </thead>\n  <tbody>\n    <tr>\n      <th>AAPL</th>\n      <td>1.000000</td>\n      <td>0.501901</td>\n      <td>0.698478</td>\n      <td>0.651976</td>\n    </tr>\n    <tr>\n      <th>IBM</th>\n      <td>0.501901</td>\n      <td>1.000000</td>\n      <td>0.580395</td>\n      <td>0.537152</td>\n    </tr>\n    <tr>\n      <th>MSFT</th>\n      <td>0.698478</td>\n      <td>0.580395</td>\n      <td>1.000000</td>\n      <td>0.781827</td>\n    </tr>\n    <tr>\n      <th>GOOG</th>\n      <td>0.651976</td>\n      <td>0.537152</td>\n      <td>0.781827</td>\n      <td>1.000000</td>\n    </tr>\n  </tbody>\n</table>\n</div>"
     },
     "execution_count": 21,
     "metadata": {},
     "output_type": "execute_result"
    }
   ],
   "source": [
    "# DataFrame的corr和cov方法将以DataFrame的形式分别返回完整的相关\n",
    "# 系数或协方差矩阵\n",
    "returns.corr()"
   ],
   "metadata": {
    "collapsed": false,
    "pycharm": {
     "name": "#%%\n"
    }
   }
  },
  {
   "cell_type": "code",
   "execution_count": 22,
   "outputs": [
    {
     "data": {
      "text/plain": "          AAPL       IBM      MSFT      GOOG\nAAPL  0.000341  0.000148  0.000224  0.000198\nIBM   0.000148  0.000257  0.000162  0.000142\nMSFT  0.000224  0.000162  0.000301  0.000223\nGOOG  0.000198  0.000142  0.000223  0.000271",
      "text/html": "<div>\n<style scoped>\n    .dataframe tbody tr th:only-of-type {\n        vertical-align: middle;\n    }\n\n    .dataframe tbody tr th {\n        vertical-align: top;\n    }\n\n    .dataframe thead th {\n        text-align: right;\n    }\n</style>\n<table border=\"1\" class=\"dataframe\">\n  <thead>\n    <tr style=\"text-align: right;\">\n      <th></th>\n      <th>AAPL</th>\n      <th>IBM</th>\n      <th>MSFT</th>\n      <th>GOOG</th>\n    </tr>\n  </thead>\n  <tbody>\n    <tr>\n      <th>AAPL</th>\n      <td>0.000341</td>\n      <td>0.000148</td>\n      <td>0.000224</td>\n      <td>0.000198</td>\n    </tr>\n    <tr>\n      <th>IBM</th>\n      <td>0.000148</td>\n      <td>0.000257</td>\n      <td>0.000162</td>\n      <td>0.000142</td>\n    </tr>\n    <tr>\n      <th>MSFT</th>\n      <td>0.000224</td>\n      <td>0.000162</td>\n      <td>0.000301</td>\n      <td>0.000223</td>\n    </tr>\n    <tr>\n      <th>GOOG</th>\n      <td>0.000198</td>\n      <td>0.000142</td>\n      <td>0.000223</td>\n      <td>0.000271</td>\n    </tr>\n  </tbody>\n</table>\n</div>"
     },
     "execution_count": 22,
     "metadata": {},
     "output_type": "execute_result"
    }
   ],
   "source": [
    "returns.cov()"
   ],
   "metadata": {
    "collapsed": false,
    "pycharm": {
     "name": "#%%\n"
    }
   }
  },
  {
   "cell_type": "markdown",
   "source": [
    "DataFrame的corrwith方法，你可以计算其列或行跟另一个Series或DataFrame\n",
    "之间的相关系数。传入一个Series将会返回一个相关系数值Series（针对各列进行\n",
    "计算）"
   ],
   "metadata": {
    "collapsed": false,
    "pycharm": {
     "name": "#%% md\n"
    }
   }
  },
  {
   "cell_type": "code",
   "execution_count": 23,
   "outputs": [
    {
     "data": {
      "text/plain": "AAPL    0.501901\nIBM     1.000000\nMSFT    0.580395\nGOOG    0.537152\ndtype: float64"
     },
     "execution_count": 23,
     "metadata": {},
     "output_type": "execute_result"
    }
   ],
   "source": [
    "returns.corrwith(returns['IBM'])\n"
   ],
   "metadata": {
    "collapsed": false,
    "pycharm": {
     "name": "#%%\n"
    }
   }
  },
  {
   "cell_type": "code",
   "execution_count": 24,
   "outputs": [
    {
     "data": {
      "text/plain": "AAPL   -0.100658\nIBM    -0.098690\nMSFT   -0.053060\nGOOG   -0.150852\ndtype: float64"
     },
     "execution_count": 24,
     "metadata": {},
     "output_type": "execute_result"
    }
   ],
   "source": [
    "# 传入一个DataFrame则会计算按列名配对的相关系数。这里，我计算百分比变化与\n",
    "# 成交量的相关系数\n",
    "returns.corrwith(volume)"
   ],
   "metadata": {
    "collapsed": false,
    "pycharm": {
     "name": "#%%\n"
    }
   }
  },
  {
   "cell_type": "markdown",
   "source": [
    "传入axis='columns'即可按行进行计算。无论如何，在计算相关系数之前，所有的\n",
    "数据项都会按标签对齐"
   ],
   "metadata": {
    "collapsed": false,
    "pycharm": {
     "name": "#%% md\n"
    }
   }
  },
  {
   "cell_type": "markdown",
   "source": [
    "# 唯一值，值计数，成员资格"
   ],
   "metadata": {
    "collapsed": false,
    "pycharm": {
     "name": "#%% md\n"
    }
   }
  },
  {
   "cell_type": "code",
   "execution_count": 28,
   "outputs": [
    {
     "data": {
      "text/plain": "array(['a', 's', 'b', 'c'], dtype=object)"
     },
     "execution_count": 28,
     "metadata": {},
     "output_type": "execute_result"
    }
   ],
   "source": [
    "obj = pd.Series(['a','s','a','b','a','c'])\n",
    "obj\n",
    "uniques = obj.unique()\n",
    "uniques"
   ],
   "metadata": {
    "collapsed": false,
    "pycharm": {
     "name": "#%%\n"
    }
   }
  },
  {
   "cell_type": "code",
   "execution_count": 30,
   "outputs": [
    {
     "data": {
      "text/plain": "a    3\ns    1\nc    1\nb    1\ndtype: int64"
     },
     "execution_count": 30,
     "metadata": {},
     "output_type": "execute_result"
    }
   ],
   "source": [
    "# value_counts用于计算一个Series中各值出现的频率\n",
    "obj.value_counts()"
   ],
   "metadata": {
    "collapsed": false,
    "pycharm": {
     "name": "#%%\n"
    }
   }
  },
  {
   "cell_type": "code",
   "execution_count": 34,
   "outputs": [
    {
     "data": {
      "text/plain": "0    False\n1    False\n2    False\n3     True\n4    False\n5     True\ndtype: bool"
     },
     "execution_count": 34,
     "metadata": {},
     "output_type": "execute_result"
    }
   ],
   "source": [
    "# isin用于判断矢量化集合的成员资格，可用于过滤Series中或DataFrame列中数据的子集：\n",
    "mask = obj.isin(['b','c'])\n",
    "mask"
   ],
   "metadata": {
    "collapsed": false,
    "pycharm": {
     "name": "#%%\n"
    }
   }
  },
  {
   "cell_type": "code",
   "execution_count": 36,
   "outputs": [
    {
     "data": {
      "text/plain": "3    b\n5    c\ndtype: object"
     },
     "execution_count": 36,
     "metadata": {},
     "output_type": "execute_result"
    }
   ],
   "source": [
    "obj[mask]"
   ],
   "metadata": {
    "collapsed": false,
    "pycharm": {
     "name": "#%%\n"
    }
   }
  },
  {
   "cell_type": "code",
   "execution_count": 39,
   "outputs": [
    {
     "data": {
      "text/plain": "array([ 2, -1,  2,  1,  2,  0], dtype=int64)"
     },
     "execution_count": 39,
     "metadata": {},
     "output_type": "execute_result"
    }
   ],
   "source": [
    "# Index.get_indexer方法，它可以给你一个索引数组，从可能包含重\n",
    "# 复值的数组到另一个不同值的数组\n",
    "unique_vals = pd.Series(['c','b','a'])\n",
    "pd.Index(unique_vals).get_indexer(obj)"
   ],
   "metadata": {
    "collapsed": false,
    "pycharm": {
     "name": "#%%\n"
    }
   }
  },
  {
   "cell_type": "code",
   "execution_count": 43,
   "outputs": [
    {
     "data": {
      "text/plain": "   qu1  qu2  qu3\n0    1    2    1\n1    3    3    5\n2    4    1    2\n3    3    2    4\n4    4    3    4",
      "text/html": "<div>\n<style scoped>\n    .dataframe tbody tr th:only-of-type {\n        vertical-align: middle;\n    }\n\n    .dataframe tbody tr th {\n        vertical-align: top;\n    }\n\n    .dataframe thead th {\n        text-align: right;\n    }\n</style>\n<table border=\"1\" class=\"dataframe\">\n  <thead>\n    <tr style=\"text-align: right;\">\n      <th></th>\n      <th>qu1</th>\n      <th>qu2</th>\n      <th>qu3</th>\n    </tr>\n  </thead>\n  <tbody>\n    <tr>\n      <th>0</th>\n      <td>1</td>\n      <td>2</td>\n      <td>1</td>\n    </tr>\n    <tr>\n      <th>1</th>\n      <td>3</td>\n      <td>3</td>\n      <td>5</td>\n    </tr>\n    <tr>\n      <th>2</th>\n      <td>4</td>\n      <td>1</td>\n      <td>2</td>\n    </tr>\n    <tr>\n      <th>3</th>\n      <td>3</td>\n      <td>2</td>\n      <td>4</td>\n    </tr>\n    <tr>\n      <th>4</th>\n      <td>4</td>\n      <td>3</td>\n      <td>4</td>\n    </tr>\n  </tbody>\n</table>\n</div>"
     },
     "execution_count": 43,
     "metadata": {},
     "output_type": "execute_result"
    }
   ],
   "source": [
    "data = pd.DataFrame({'qu1':[1,3,4,3,4],'qu2':[2,3,1,2,3]\n",
    "                     ,'qu3':[1,5,2,4,4]})\n",
    "data"
   ],
   "metadata": {
    "collapsed": false,
    "pycharm": {
     "name": "#%%\n"
    }
   }
  },
  {
   "cell_type": "code",
   "execution_count": 48,
   "outputs": [
    {
     "data": {
      "text/plain": "   qu1  qu2  qu3\n1  1.0  1.0  1.0\n2  0.0  2.0  1.0\n3  2.0  2.0  0.0\n4  2.0  0.0  2.0\n5  0.0  0.0  1.0",
      "text/html": "<div>\n<style scoped>\n    .dataframe tbody tr th:only-of-type {\n        vertical-align: middle;\n    }\n\n    .dataframe tbody tr th {\n        vertical-align: top;\n    }\n\n    .dataframe thead th {\n        text-align: right;\n    }\n</style>\n<table border=\"1\" class=\"dataframe\">\n  <thead>\n    <tr style=\"text-align: right;\">\n      <th></th>\n      <th>qu1</th>\n      <th>qu2</th>\n      <th>qu3</th>\n    </tr>\n  </thead>\n  <tbody>\n    <tr>\n      <th>1</th>\n      <td>1.0</td>\n      <td>1.0</td>\n      <td>1.0</td>\n    </tr>\n    <tr>\n      <th>2</th>\n      <td>0.0</td>\n      <td>2.0</td>\n      <td>1.0</td>\n    </tr>\n    <tr>\n      <th>3</th>\n      <td>2.0</td>\n      <td>2.0</td>\n      <td>0.0</td>\n    </tr>\n    <tr>\n      <th>4</th>\n      <td>2.0</td>\n      <td>0.0</td>\n      <td>2.0</td>\n    </tr>\n    <tr>\n      <th>5</th>\n      <td>0.0</td>\n      <td>0.0</td>\n      <td>1.0</td>\n    </tr>\n  </tbody>\n</table>\n</div>"
     },
     "execution_count": 48,
     "metadata": {},
     "output_type": "execute_result"
    }
   ],
   "source": [
    "result = data.apply(pd.value_counts).fillna(0)\n",
    "result"
   ],
   "metadata": {
    "collapsed": false,
    "pycharm": {
     "name": "#%%\n"
    }
   }
  },
  {
   "cell_type": "markdown",
   "source": [
    "结果中的行标签是所有列的唯一值。后面的频率值是每个列中这些值的相应\n",
    "计数。"
   ],
   "metadata": {
    "collapsed": false,
    "pycharm": {
     "name": "#%% md\n"
    }
   }
  },
  {
   "cell_type": "code",
   "execution_count": null,
   "outputs": [],
   "source": [],
   "metadata": {
    "collapsed": false,
    "pycharm": {
     "name": "#%%\n"
    }
   }
  }
 ],
 "metadata": {
  "kernelspec": {
   "display_name": "Python 3",
   "language": "python",
   "name": "python3"
  },
  "language_info": {
   "codemirror_mode": {
    "name": "ipython",
    "version": 2
   },
   "file_extension": ".py",
   "mimetype": "text/x-python",
   "name": "python",
   "nbconvert_exporter": "python",
   "pygments_lexer": "ipython2",
   "version": "2.7.6"
  }
 },
 "nbformat": 4,
 "nbformat_minor": 0
}